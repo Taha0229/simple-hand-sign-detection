{
  "nbformat": 4,
  "nbformat_minor": 0,
  "metadata": {
    "colab": {
      "provenance": [],
      "gpuType": "T4",
      "authorship_tag": "ABX9TyPzvGVyVX1JiqrsvM2N15q4",
      "include_colab_link": true
    },
    "kernelspec": {
      "name": "python3",
      "display_name": "Python 3"
    },
    "language_info": {
      "name": "python"
    },
    "accelerator": "GPU"
  },
  "cells": [
    {
      "cell_type": "markdown",
      "metadata": {
        "id": "view-in-github",
        "colab_type": "text"
      },
      "source": [
        "<a href=\"https://colab.research.google.com/github/Taha0229/simple-hand-sign-detection/blob/main/hand_sign_detection.ipynb\" target=\"_parent\"><img src=\"https://colab.research.google.com/assets/colab-badge.svg\" alt=\"Open In Colab\"/></a>"
      ]
    },
    {
      "cell_type": "code",
      "execution_count": 2,
      "metadata": {
        "id": "FZnNgiKNO7m9"
      },
      "outputs": [],
      "source": [
        "import math\n",
        "import numpy as np\n",
        "import h5py\n",
        "import matplotlib.pyplot as plt\n",
        "from matplotlib.pyplot import imread\n",
        "import scipy\n",
        "from PIL import Image\n",
        "import pandas as pd\n",
        "import tensorflow as tf\n",
        "import tensorflow.keras.layers as tfl\n",
        "from tensorflow.python.framework import ops\n",
        "from cnn_utils import *\n",
        "\n",
        "%matplotlib inline\n",
        "np.random.seed(1)"
      ]
    },
    {
      "cell_type": "markdown",
      "source": [
        "#**Load the sign dataset**"
      ],
      "metadata": {
        "id": "XRW-9PXiPoCj"
      }
    },
    {
      "cell_type": "code",
      "source": [
        "# Loading the data (signs)\n",
        "X_train_orig, Y_train_orig, X_test_orig, Y_test_orig, classes = load_signs_dataset()"
      ],
      "metadata": {
        "id": "Hry1Re_jPxqp"
      },
      "execution_count": 3,
      "outputs": []
    },
    {
      "cell_type": "code",
      "source": [
        "# Example of an image from the dataset\n",
        "index = 9\n",
        "plt.imshow(X_train_orig[index])\n",
        "print (\"y = \" + str(np.squeeze(Y_train_orig[:, index])))"
      ],
      "metadata": {
        "colab": {
          "base_uri": "https://localhost:8080/",
          "height": 449
        },
        "id": "CYEXsx_ZQNSV",
        "outputId": "1645c20b-3c4a-4c3f-d4ce-8b98182dc036"
      },
      "execution_count": 4,
      "outputs": [
        {
          "output_type": "stream",
          "name": "stdout",
          "text": [
            "y = 4\n"
          ]
        },
        {
          "output_type": "display_data",
          "data": {
            "text/plain": [
              "<Figure size 640x480 with 1 Axes>"
            ],
            "image/png": "[encoded data removed]"
          },
          "metadata": {}
        }
      ]
    },
    {
      "cell_type": "markdown",
      "source": [
        "#**Split the data into train and test sets**"
      ],
      "metadata": {
        "id": "mvMIDuo7QRwA"
      }
    },
    {
      "cell_type": "code",
      "source": [
        "X_train = X_train_orig/255.\n",
        "X_test = X_test_orig/255.\n",
        "Y_train = convert_to_one_hot(Y_train_orig, 6).T\n",
        "Y_test = convert_to_one_hot(Y_test_orig, 6).T\n",
        "print (\"number of training examples = \" + str(X_train.shape[0]))\n",
        "print (\"number of test examples = \" + str(X_test.shape[0]))\n",
        "print (\"X_train shape: \" + str(X_train.shape))\n",
        "print (\"Y_train shape: \" + str(Y_train.shape))\n",
        "print (\"X_test shape: \" + str(X_test.shape))\n",
        "print (\"Y_test shape: \" + str(Y_test.shape))"
      ],
      "metadata": {
        "colab": {
          "base_uri": "https://localhost:8080/"
        },
        "id": "pk2HjahFQZe4",
        "outputId": "e64bfe68-e7a0-4a89-b154-8a98340e7544"
      },
      "execution_count": 5,
      "outputs": [
        {
          "output_type": "stream",
          "name": "stdout",
          "text": [
            "number of training examples = 1080\n",
            "number of test examples = 120\n",
            "X_train shape: (1080, 64, 64, 3)\n",
            "Y_train shape: (1080, 6)\n",
            "X_test shape: (120, 64, 64, 3)\n",
            "Y_test shape: (120, 6)\n"
          ]
        }
      ]
    },
    {
      "cell_type": "code",
      "source": [],
      "metadata": {
        "id": "HRy9mUG0QepX"
      },
      "execution_count": 5,
      "outputs": []
    },
    {
      "cell_type": "markdown",
      "source": [
        "#**Model defination**"
      ],
      "metadata": {
        "id": "18uGDei3QfPg"
      }
    },
    {
      "cell_type": "code",
      "source": [
        "# GRADED FUNCTION: convolutional_model\n",
        "\n",
        "def convolutional_model(input_shape):\n",
        "    \"\"\"\n",
        "    Implements the forward propagation for the model:\n",
        "    CONV2D -> RELU -> MAXPOOL -> CONV2D -> RELU -> MAXPOOL -> FLATTEN -> DENSE\n",
        "\n",
        "\n",
        "    Arguments:\n",
        "    input_img -- input dataset, of shape (input_shape)\n",
        "\n",
        "    Returns:\n",
        "    model -- TF Keras model (object containing the information for the entire training process)\n",
        "    \"\"\"\n",
        "\n",
        "    input_img = tf.keras.Input(shape=input_shape)\n",
        "\n",
        "    Z1 = tfl.Conv2D(8, (4,4), 1, 'same')(input_img)\n",
        "    A1 = tfl.ReLU()(Z1)\n",
        "    P1 = tfl.MaxPool2D((8,8), 8, 'same')(A1)\n",
        "    Z2 = tfl.Conv2D(16, (2,2), 1, 'same')(P1)\n",
        "    A2 = tfl.ReLU()(Z2)\n",
        "    P2 = tfl.MaxPool2D((4,4), 4, 'same')(A2)\n",
        "    F = tfl.Flatten()(P2)\n",
        "    outputs = tfl.Dense(6, activation=\"softmax\")(F)\n",
        "\n",
        "\n",
        "\n",
        "    # YOUR CODE ENDS HERE\n",
        "    model = tf.keras.Model(inputs=input_img, outputs=outputs)\n",
        "    return model"
      ],
      "metadata": {
        "id": "hibB2W6YQjDy"
      },
      "execution_count": 6,
      "outputs": []
    },
    {
      "cell_type": "markdown",
      "source": [
        "#**Compile the model**"
      ],
      "metadata": {
        "id": "jrXaqDtqRBI2"
      }
    },
    {
      "cell_type": "code",
      "source": [
        "conv_model = convolutional_model((64, 64, 3))\n",
        "conv_model.compile(optimizer='adam',\n",
        "                  loss='categorical_crossentropy',\n",
        "                  metrics=['accuracy'])\n",
        "conv_model.summary()"
      ],
      "metadata": {
        "colab": {
          "base_uri": "https://localhost:8080/"
        },
        "id": "O5ZYEMFCRFQm",
        "outputId": "fa0f562a-0b17-4c16-d75b-7633f4c51155"
      },
      "execution_count": 7,
      "outputs": [
        {
          "output_type": "stream",
          "name": "stdout",
          "text": [
            "Model: \"model\"\n",
            "_________________________________________________________________\n",
            " Layer (type)                Output Shape              Param #   \n",
            "=================================================================\n",
            " input_1 (InputLayer)        [(None, 64, 64, 3)]       0         \n",
            "                                                                 \n",
            " conv2d (Conv2D)             (None, 64, 64, 8)         392       \n",
            "                                                                 \n",
            " re_lu (ReLU)                (None, 64, 64, 8)         0         \n",
            "                                                                 \n",
            " max_pooling2d (MaxPooling2  (None, 8, 8, 8)           0         \n",
            " D)                                                              \n",
            "                                                                 \n",
            " conv2d_1 (Conv2D)           (None, 8, 8, 16)          528       \n",
            "                                                                 \n",
            " re_lu_1 (ReLU)              (None, 8, 8, 16)          0         \n",
            "                                                                 \n",
            " max_pooling2d_1 (MaxPoolin  (None, 2, 2, 16)          0         \n",
            " g2D)                                                            \n",
            "                                                                 \n",
            " flatten (Flatten)           (None, 64)                0         \n",
            "                                                                 \n",
            " dense (Dense)               (None, 6)                 390       \n",
            "                                                                 \n",
            "=================================================================\n",
            "Total params: 1310 (5.12 KB)\n",
            "Trainable params: 1310 (5.12 KB)\n",
            "Non-trainable params: 0 (0.00 Byte)\n",
            "_________________________________________________________________\n"
          ]
        }
      ]
    },
    {
      "cell_type": "markdown",
      "source": [
        "#**Train the model**"
      ],
      "metadata": {
        "id": "oQzWRn55RQNq"
      }
    },
    {
      "cell_type": "code",
      "source": [
        "train_dataset = tf.data.Dataset.from_tensor_slices((X_train, Y_train)).batch(64)\n",
        "test_dataset = tf.data.Dataset.from_tensor_slices((X_test, Y_test)).batch(64)\n",
        "history = conv_model.fit(train_dataset, epochs=100, validation_data=test_dataset)"
      ],
      "metadata": {
        "colab": {
          "base_uri": "https://localhost:8080/"
        },
        "id": "TXIjnXsWRTDs",
        "outputId": "cb4a3793-d52f-45b5-f7c5-8f234d0c837f"
      },
      "execution_count": 8,
      "outputs": [
        {
          "output_type": "stream",
          "name": "stdout",
          "text": [
            "Epoch 1/100\n",
            "17/17 [==============================] - 10s 28ms/step - loss: 1.8165 - accuracy: 0.1796 - val_loss: 1.7860 - val_accuracy: 0.1917\n",
            "Epoch 2/100\n",
            "17/17 [==============================] - 0s 10ms/step - loss: 1.7860 - accuracy: 0.1750 - val_loss: 1.7801 - val_accuracy: 0.2167\n",
            "Epoch 3/100\n",
            "17/17 [==============================] - 0s 10ms/step - loss: 1.7821 - accuracy: 0.2222 - val_loss: 1.7764 - val_accuracy: 0.2750\n",
            "Epoch 4/100\n",
            "17/17 [==============================] - 0s 10ms/step - loss: 1.7790 - accuracy: 0.2426 - val_loss: 1.7733 - val_accuracy: 0.3583\n",
            "Epoch 5/100\n",
            "17/17 [==============================] - 0s 11ms/step - loss: 1.7741 - accuracy: 0.2741 - val_loss: 1.7660 - val_accuracy: 0.2583\n",
            "Epoch 6/100\n",
            "17/17 [==============================] - 0s 9ms/step - loss: 1.7666 - accuracy: 0.2676 - val_loss: 1.7605 - val_accuracy: 0.3750\n",
            "Epoch 7/100\n",
            "17/17 [==============================] - 0s 10ms/step - loss: 1.7590 - accuracy: 0.3231 - val_loss: 1.7546 - val_accuracy: 0.3750\n",
            "Epoch 8/100\n",
            "17/17 [==============================] - 0s 9ms/step - loss: 1.7506 - accuracy: 0.3463 - val_loss: 1.7472 - val_accuracy: 0.3917\n",
            "Epoch 9/100\n",
            "17/17 [==============================] - 0s 10ms/step - loss: 1.7404 - accuracy: 0.3787 - val_loss: 1.7381 - val_accuracy: 0.3917\n",
            "Epoch 10/100\n",
            "17/17 [==============================] - 0s 10ms/step - loss: 1.7287 - accuracy: 0.3806 - val_loss: 1.7228 - val_accuracy: 0.3917\n",
            "Epoch 11/100\n",
            "17/17 [==============================] - 0s 10ms/step - loss: 1.7111 - accuracy: 0.3861 - val_loss: 1.7059 - val_accuracy: 0.3750\n",
            "Epoch 12/100\n",
            "17/17 [==============================] - 0s 10ms/step - loss: 1.6889 - accuracy: 0.3991 - val_loss: 1.6853 - val_accuracy: 0.4250\n",
            "Epoch 13/100\n",
            "17/17 [==============================] - 0s 10ms/step - loss: 1.6630 - accuracy: 0.4083 - val_loss: 1.6616 - val_accuracy: 0.4250\n",
            "Epoch 14/100\n",
            "17/17 [==============================] - 0s 10ms/step - loss: 1.6337 - accuracy: 0.4231 - val_loss: 1.6375 - val_accuracy: 0.4250\n",
            "Epoch 15/100\n",
            "17/17 [==============================] - 0s 9ms/step - loss: 1.6026 - accuracy: 0.4259 - val_loss: 1.6099 - val_accuracy: 0.4417\n",
            "Epoch 16/100\n",
            "17/17 [==============================] - 0s 9ms/step - loss: 1.5674 - accuracy: 0.4528 - val_loss: 1.5690 - val_accuracy: 0.4500\n",
            "Epoch 17/100\n",
            "17/17 [==============================] - 0s 9ms/step - loss: 1.5283 - accuracy: 0.4630 - val_loss: 1.5338 - val_accuracy: 0.4417\n",
            "Epoch 18/100\n",
            "17/17 [==============================] - 0s 9ms/step - loss: 1.4885 - accuracy: 0.4870 - val_loss: 1.4981 - val_accuracy: 0.4583\n",
            "Epoch 19/100\n",
            "17/17 [==============================] - 0s 9ms/step - loss: 1.4510 - accuracy: 0.4963 - val_loss: 1.4618 - val_accuracy: 0.4917\n",
            "Epoch 20/100\n",
            "17/17 [==============================] - 0s 9ms/step - loss: 1.4134 - accuracy: 0.5083 - val_loss: 1.4265 - val_accuracy: 0.5000\n",
            "Epoch 21/100\n",
            "17/17 [==============================] - 0s 10ms/step - loss: 1.3783 - accuracy: 0.5167 - val_loss: 1.3940 - val_accuracy: 0.4917\n",
            "Epoch 22/100\n",
            "17/17 [==============================] - 0s 11ms/step - loss: 1.3448 - accuracy: 0.5361 - val_loss: 1.3622 - val_accuracy: 0.4917\n",
            "Epoch 23/100\n",
            "17/17 [==============================] - 0s 10ms/step - loss: 1.3130 - accuracy: 0.5546 - val_loss: 1.3316 - val_accuracy: 0.5167\n",
            "Epoch 24/100\n",
            "17/17 [==============================] - 0s 10ms/step - loss: 1.2834 - accuracy: 0.5648 - val_loss: 1.3028 - val_accuracy: 0.5500\n",
            "Epoch 25/100\n",
            "17/17 [==============================] - 0s 9ms/step - loss: 1.2546 - accuracy: 0.5667 - val_loss: 1.2740 - val_accuracy: 0.5583\n",
            "Epoch 26/100\n",
            "17/17 [==============================] - 0s 9ms/step - loss: 1.2277 - accuracy: 0.5778 - val_loss: 1.2478 - val_accuracy: 0.5583\n",
            "Epoch 27/100\n",
            "17/17 [==============================] - 0s 9ms/step - loss: 1.2019 - accuracy: 0.5833 - val_loss: 1.2215 - val_accuracy: 0.5667\n",
            "Epoch 28/100\n",
            "17/17 [==============================] - 0s 10ms/step - loss: 1.1766 - accuracy: 0.5954 - val_loss: 1.1972 - val_accuracy: 0.5750\n",
            "Epoch 29/100\n",
            "17/17 [==============================] - 0s 9ms/step - loss: 1.1531 - accuracy: 0.5935 - val_loss: 1.1735 - val_accuracy: 0.5750\n",
            "Epoch 30/100\n",
            "17/17 [==============================] - 0s 10ms/step - loss: 1.1303 - accuracy: 0.5981 - val_loss: 1.1506 - val_accuracy: 0.5750\n",
            "Epoch 31/100\n",
            "17/17 [==============================] - 0s 10ms/step - loss: 1.1091 - accuracy: 0.6120 - val_loss: 1.1304 - val_accuracy: 0.5583\n",
            "Epoch 32/100\n",
            "17/17 [==============================] - 0s 9ms/step - loss: 1.0887 - accuracy: 0.6194 - val_loss: 1.1104 - val_accuracy: 0.5750\n",
            "Epoch 33/100\n",
            "17/17 [==============================] - 0s 9ms/step - loss: 1.0689 - accuracy: 0.6287 - val_loss: 1.0914 - val_accuracy: 0.5917\n",
            "Epoch 34/100\n",
            "17/17 [==============================] - 0s 9ms/step - loss: 1.0501 - accuracy: 0.6333 - val_loss: 1.0735 - val_accuracy: 0.5917\n",
            "Epoch 35/100\n",
            "17/17 [==============================] - 0s 9ms/step - loss: 1.0328 - accuracy: 0.6380 - val_loss: 1.0570 - val_accuracy: 0.5917\n",
            "Epoch 36/100\n",
            "17/17 [==============================] - 0s 11ms/step - loss: 1.0157 - accuracy: 0.6509 - val_loss: 1.0408 - val_accuracy: 0.5833\n",
            "Epoch 37/100\n",
            "17/17 [==============================] - 0s 9ms/step - loss: 0.9992 - accuracy: 0.6556 - val_loss: 1.0255 - val_accuracy: 0.6083\n",
            "Epoch 38/100\n",
            "17/17 [==============================] - 0s 9ms/step - loss: 0.9846 - accuracy: 0.6593 - val_loss: 1.0115 - val_accuracy: 0.6000\n",
            "Epoch 39/100\n",
            "17/17 [==============================] - 0s 10ms/step - loss: 0.9700 - accuracy: 0.6667 - val_loss: 0.9978 - val_accuracy: 0.6083\n",
            "Epoch 40/100\n",
            "17/17 [==============================] - 0s 9ms/step - loss: 0.9554 - accuracy: 0.6713 - val_loss: 0.9847 - val_accuracy: 0.5917\n",
            "Epoch 41/100\n",
            "17/17 [==============================] - 0s 10ms/step - loss: 0.9418 - accuracy: 0.6741 - val_loss: 0.9718 - val_accuracy: 0.6000\n",
            "Epoch 42/100\n",
            "17/17 [==============================] - 0s 9ms/step - loss: 0.9292 - accuracy: 0.6741 - val_loss: 0.9602 - val_accuracy: 0.6000\n",
            "Epoch 43/100\n",
            "17/17 [==============================] - 0s 13ms/step - loss: 0.9158 - accuracy: 0.6796 - val_loss: 0.9473 - val_accuracy: 0.6083\n",
            "Epoch 44/100\n",
            "17/17 [==============================] - 0s 11ms/step - loss: 0.9052 - accuracy: 0.6796 - val_loss: 0.9368 - val_accuracy: 0.6000\n",
            "Epoch 45/100\n",
            "17/17 [==============================] - 0s 12ms/step - loss: 0.8937 - accuracy: 0.6843 - val_loss: 0.9273 - val_accuracy: 0.6000\n",
            "Epoch 46/100\n",
            "17/17 [==============================] - 0s 12ms/step - loss: 0.8798 - accuracy: 0.6935 - val_loss: 0.9162 - val_accuracy: 0.6000\n",
            "Epoch 47/100\n",
            "17/17 [==============================] - 0s 14ms/step - loss: 0.8688 - accuracy: 0.6944 - val_loss: 0.9050 - val_accuracy: 0.6000\n",
            "Epoch 48/100\n",
            "17/17 [==============================] - 0s 12ms/step - loss: 0.8588 - accuracy: 0.6954 - val_loss: 0.8970 - val_accuracy: 0.6250\n",
            "Epoch 49/100\n",
            "17/17 [==============================] - 0s 13ms/step - loss: 0.8472 - accuracy: 0.7065 - val_loss: 0.8870 - val_accuracy: 0.6333\n",
            "Epoch 50/100\n",
            "17/17 [==============================] - 0s 13ms/step - loss: 0.8365 - accuracy: 0.7093 - val_loss: 0.8788 - val_accuracy: 0.6333\n",
            "Epoch 51/100\n",
            "17/17 [==============================] - 0s 12ms/step - loss: 0.8270 - accuracy: 0.7093 - val_loss: 0.8705 - val_accuracy: 0.6333\n",
            "Epoch 52/100\n",
            "17/17 [==============================] - 0s 13ms/step - loss: 0.8181 - accuracy: 0.7148 - val_loss: 0.8634 - val_accuracy: 0.6333\n",
            "Epoch 53/100\n",
            "17/17 [==============================] - 0s 13ms/step - loss: 0.8087 - accuracy: 0.7148 - val_loss: 0.8563 - val_accuracy: 0.6333\n",
            "Epoch 54/100\n",
            "17/17 [==============================] - 0s 11ms/step - loss: 0.7993 - accuracy: 0.7157 - val_loss: 0.8475 - val_accuracy: 0.6417\n",
            "Epoch 55/100\n",
            "17/17 [==============================] - 0s 11ms/step - loss: 0.7919 - accuracy: 0.7222 - val_loss: 0.8423 - val_accuracy: 0.6417\n",
            "Epoch 56/100\n",
            "17/17 [==============================] - 0s 13ms/step - loss: 0.7815 - accuracy: 0.7204 - val_loss: 0.8328 - val_accuracy: 0.6500\n",
            "Epoch 57/100\n",
            "17/17 [==============================] - 0s 13ms/step - loss: 0.7739 - accuracy: 0.7287 - val_loss: 0.8258 - val_accuracy: 0.6500\n",
            "Epoch 58/100\n",
            "17/17 [==============================] - 0s 13ms/step - loss: 0.7657 - accuracy: 0.7296 - val_loss: 0.8196 - val_accuracy: 0.6500\n",
            "Epoch 59/100\n",
            "17/17 [==============================] - 0s 9ms/step - loss: 0.7576 - accuracy: 0.7296 - val_loss: 0.8144 - val_accuracy: 0.6667\n",
            "Epoch 60/100\n",
            "17/17 [==============================] - 0s 9ms/step - loss: 0.7491 - accuracy: 0.7370 - val_loss: 0.8081 - val_accuracy: 0.6667\n",
            "Epoch 61/100\n",
            "17/17 [==============================] - 0s 9ms/step - loss: 0.7410 - accuracy: 0.7435 - val_loss: 0.8021 - val_accuracy: 0.6750\n",
            "Epoch 62/100\n",
            "17/17 [==============================] - 0s 10ms/step - loss: 0.7343 - accuracy: 0.7435 - val_loss: 0.7974 - val_accuracy: 0.6750\n",
            "Epoch 63/100\n",
            "17/17 [==============================] - 0s 10ms/step - loss: 0.7267 - accuracy: 0.7472 - val_loss: 0.7926 - val_accuracy: 0.6833\n",
            "Epoch 64/100\n",
            "17/17 [==============================] - 0s 9ms/step - loss: 0.7196 - accuracy: 0.7556 - val_loss: 0.7877 - val_accuracy: 0.6833\n",
            "Epoch 65/100\n",
            "17/17 [==============================] - 0s 10ms/step - loss: 0.7122 - accuracy: 0.7565 - val_loss: 0.7824 - val_accuracy: 0.7000\n",
            "Epoch 66/100\n",
            "17/17 [==============================] - 0s 10ms/step - loss: 0.7058 - accuracy: 0.7574 - val_loss: 0.7783 - val_accuracy: 0.6833\n",
            "Epoch 67/100\n",
            "17/17 [==============================] - 0s 9ms/step - loss: 0.6992 - accuracy: 0.7565 - val_loss: 0.7739 - val_accuracy: 0.6833\n",
            "Epoch 68/100\n",
            "17/17 [==============================] - 0s 10ms/step - loss: 0.6926 - accuracy: 0.7574 - val_loss: 0.7692 - val_accuracy: 0.6833\n",
            "Epoch 69/100\n",
            "17/17 [==============================] - 0s 9ms/step - loss: 0.6863 - accuracy: 0.7602 - val_loss: 0.7654 - val_accuracy: 0.6833\n",
            "Epoch 70/100\n",
            "17/17 [==============================] - 0s 10ms/step - loss: 0.6799 - accuracy: 0.7639 - val_loss: 0.7619 - val_accuracy: 0.6833\n",
            "Epoch 71/100\n",
            "17/17 [==============================] - 0s 10ms/step - loss: 0.6733 - accuracy: 0.7694 - val_loss: 0.7580 - val_accuracy: 0.6833\n",
            "Epoch 72/100\n",
            "17/17 [==============================] - 0s 10ms/step - loss: 0.6669 - accuracy: 0.7722 - val_loss: 0.7548 - val_accuracy: 0.6833\n",
            "Epoch 73/100\n",
            "17/17 [==============================] - 0s 10ms/step - loss: 0.6608 - accuracy: 0.7769 - val_loss: 0.7518 - val_accuracy: 0.6833\n",
            "Epoch 74/100\n",
            "17/17 [==============================] - 0s 10ms/step - loss: 0.6548 - accuracy: 0.7769 - val_loss: 0.7485 - val_accuracy: 0.6833\n",
            "Epoch 75/100\n",
            "17/17 [==============================] - 0s 9ms/step - loss: 0.6485 - accuracy: 0.7796 - val_loss: 0.7458 - val_accuracy: 0.6917\n",
            "Epoch 76/100\n",
            "17/17 [==============================] - 0s 9ms/step - loss: 0.6432 - accuracy: 0.7806 - val_loss: 0.7433 - val_accuracy: 0.6917\n",
            "Epoch 77/100\n",
            "17/17 [==============================] - 0s 10ms/step - loss: 0.6380 - accuracy: 0.7852 - val_loss: 0.7406 - val_accuracy: 0.6917\n",
            "Epoch 78/100\n",
            "17/17 [==============================] - 0s 9ms/step - loss: 0.6325 - accuracy: 0.7861 - val_loss: 0.7389 - val_accuracy: 0.6833\n",
            "Epoch 79/100\n",
            "17/17 [==============================] - 0s 9ms/step - loss: 0.6272 - accuracy: 0.7917 - val_loss: 0.7355 - val_accuracy: 0.6917\n",
            "Epoch 80/100\n",
            "17/17 [==============================] - 0s 10ms/step - loss: 0.6215 - accuracy: 0.7944 - val_loss: 0.7328 - val_accuracy: 0.6917\n",
            "Epoch 81/100\n",
            "17/17 [==============================] - 0s 10ms/step - loss: 0.6158 - accuracy: 0.7972 - val_loss: 0.7297 - val_accuracy: 0.6917\n",
            "Epoch 82/100\n",
            "17/17 [==============================] - 0s 11ms/step - loss: 0.6108 - accuracy: 0.7963 - val_loss: 0.7278 - val_accuracy: 0.7000\n",
            "Epoch 83/100\n",
            "17/17 [==============================] - 0s 9ms/step - loss: 0.6052 - accuracy: 0.8037 - val_loss: 0.7252 - val_accuracy: 0.7000\n",
            "Epoch 84/100\n",
            "17/17 [==============================] - 0s 9ms/step - loss: 0.6002 - accuracy: 0.8056 - val_loss: 0.7224 - val_accuracy: 0.7083\n",
            "Epoch 85/100\n",
            "17/17 [==============================] - 0s 9ms/step - loss: 0.5954 - accuracy: 0.8056 - val_loss: 0.7205 - val_accuracy: 0.7250\n",
            "Epoch 86/100\n",
            "17/17 [==============================] - 0s 9ms/step - loss: 0.5909 - accuracy: 0.8074 - val_loss: 0.7184 - val_accuracy: 0.7250\n",
            "Epoch 87/100\n",
            "17/17 [==============================] - 0s 9ms/step - loss: 0.5859 - accuracy: 0.8083 - val_loss: 0.7159 - val_accuracy: 0.7333\n",
            "Epoch 88/100\n",
            "17/17 [==============================] - 0s 9ms/step - loss: 0.5814 - accuracy: 0.8083 - val_loss: 0.7147 - val_accuracy: 0.7333\n",
            "Epoch 89/100\n",
            "17/17 [==============================] - 0s 9ms/step - loss: 0.5769 - accuracy: 0.8093 - val_loss: 0.7117 - val_accuracy: 0.7333\n",
            "Epoch 90/100\n",
            "17/17 [==============================] - 0s 9ms/step - loss: 0.5725 - accuracy: 0.8102 - val_loss: 0.7102 - val_accuracy: 0.7333\n",
            "Epoch 91/100\n",
            "17/17 [==============================] - 0s 10ms/step - loss: 0.5682 - accuracy: 0.8111 - val_loss: 0.7081 - val_accuracy: 0.7333\n",
            "Epoch 92/100\n",
            "17/17 [==============================] - 0s 10ms/step - loss: 0.5638 - accuracy: 0.8130 - val_loss: 0.7068 - val_accuracy: 0.7333\n",
            "Epoch 93/100\n",
            "17/17 [==============================] - 0s 10ms/step - loss: 0.5598 - accuracy: 0.8148 - val_loss: 0.7052 - val_accuracy: 0.7333\n",
            "Epoch 94/100\n",
            "17/17 [==============================] - 0s 11ms/step - loss: 0.5553 - accuracy: 0.8167 - val_loss: 0.7032 - val_accuracy: 0.7333\n",
            "Epoch 95/100\n",
            "17/17 [==============================] - 0s 11ms/step - loss: 0.5513 - accuracy: 0.8185 - val_loss: 0.7014 - val_accuracy: 0.7333\n",
            "Epoch 96/100\n",
            "17/17 [==============================] - 0s 9ms/step - loss: 0.5472 - accuracy: 0.8204 - val_loss: 0.6990 - val_accuracy: 0.7333\n",
            "Epoch 97/100\n",
            "17/17 [==============================] - 0s 9ms/step - loss: 0.5430 - accuracy: 0.8241 - val_loss: 0.6974 - val_accuracy: 0.7417\n",
            "Epoch 98/100\n",
            "17/17 [==============================] - 0s 9ms/step - loss: 0.5396 - accuracy: 0.8259 - val_loss: 0.6960 - val_accuracy: 0.7500\n",
            "Epoch 99/100\n",
            "17/17 [==============================] - 0s 9ms/step - loss: 0.5360 - accuracy: 0.8259 - val_loss: 0.6936 - val_accuracy: 0.7583\n",
            "Epoch 100/100\n",
            "17/17 [==============================] - 0s 8ms/step - loss: 0.5318 - accuracy: 0.8259 - val_loss: 0.6916 - val_accuracy: 0.7583\n"
          ]
        }
      ]
    },
    {
      "cell_type": "markdown",
      "source": [
        "#**History**"
      ],
      "metadata": {
        "id": "LZlN9izTR8RY"
      }
    },
    {
      "cell_type": "code",
      "source": [
        "history.history"
      ],
      "metadata": {
        "colab": {
          "base_uri": "https://localhost:8080/"
        },
        "id": "gKHhwNEdR_KA",
        "outputId": "964a9429-4bec-4b37-cdb3-53dec9ebd6a1"
      },
      "execution_count": 9,
      "outputs": [
        {
          "output_type": "execute_result",
          "data": {
            "text/plain": [
              "{'loss': [1.8165148496627808,\n",
              "  1.7859549522399902,\n",
              "  1.7821354866027832,\n",
              "  1.778997778892517,\n",
              "  1.7740854024887085,\n",
              "  1.766603946685791,\n",
              "  1.7590479850769043,\n",
              "  1.7505733966827393,\n",
              "  1.7403678894042969,\n",
              "  1.728707194328308,\n",
              "  1.7111109495162964,\n",
              "  1.6888874769210815,\n",
              "  1.6629889011383057,\n",
              "  1.6337392330169678,\n",
              "  1.602573275566101,\n",
              "  1.5673818588256836,\n",
              "  1.528258204460144,\n",
              "  1.4885088205337524,\n",
              "  1.451012134552002,\n",
              "  1.4134087562561035,\n",
              "  1.3782644271850586,\n",
              "  1.344779133796692,\n",
              "  1.3130419254302979,\n",
              "  1.2834374904632568,\n",
              "  1.2546333074569702,\n",
              "  1.2277370691299438,\n",
              "  1.201857089996338,\n",
              "  1.1766324043273926,\n",
              "  1.1531258821487427,\n",
              "  1.1302638053894043,\n",
              "  1.1091381311416626,\n",
              "  1.088670015335083,\n",
              "  1.0688830614089966,\n",
              "  1.0501028299331665,\n",
              "  1.0328364372253418,\n",
              "  1.015669584274292,\n",
              "  0.9992415904998779,\n",
              "  0.9845748543739319,\n",
              "  0.9700368046760559,\n",
              "  0.9553958177566528,\n",
              "  0.9417673945426941,\n",
              "  0.9292426109313965,\n",
              "  0.9157955646514893,\n",
              "  0.9051711559295654,\n",
              "  0.8936718702316284,\n",
              "  0.8798450231552124,\n",
              "  0.8687683939933777,\n",
              "  0.8587805032730103,\n",
              "  0.8471782207489014,\n",
              "  0.8364923596382141,\n",
              "  0.8269804120063782,\n",
              "  0.8181493878364563,\n",
              "  0.8087266683578491,\n",
              "  0.7992719411849976,\n",
              "  0.7919065356254578,\n",
              "  0.7815232872962952,\n",
              "  0.7738502025604248,\n",
              "  0.7657087445259094,\n",
              "  0.7576144337654114,\n",
              "  0.7490672469139099,\n",
              "  0.7410499453544617,\n",
              "  0.7343092560768127,\n",
              "  0.726721465587616,\n",
              "  0.7195741534233093,\n",
              "  0.7121835350990295,\n",
              "  0.7058314681053162,\n",
              "  0.6991536021232605,\n",
              "  0.6925945281982422,\n",
              "  0.6863023042678833,\n",
              "  0.6798924803733826,\n",
              "  0.6733108162879944,\n",
              "  0.6669103503227234,\n",
              "  0.660797655582428,\n",
              "  0.6547671556472778,\n",
              "  0.6484955549240112,\n",
              "  0.6431751847267151,\n",
              "  0.6379857659339905,\n",
              "  0.6324777603149414,\n",
              "  0.6272270083427429,\n",
              "  0.6215428709983826,\n",
              "  0.6158195734024048,\n",
              "  0.6108425259590149,\n",
              "  0.6052066683769226,\n",
              "  0.600212574005127,\n",
              "  0.595373809337616,\n",
              "  0.5908625721931458,\n",
              "  0.5859096050262451,\n",
              "  0.5814083218574524,\n",
              "  0.5768635272979736,\n",
              "  0.5725001692771912,\n",
              "  0.5681672096252441,\n",
              "  0.5638130903244019,\n",
              "  0.5598441362380981,\n",
              "  0.555328905582428,\n",
              "  0.5512818098068237,\n",
              "  0.547228991985321,\n",
              "  0.5430419445037842,\n",
              "  0.53959721326828,\n",
              "  0.5359990000724792,\n",
              "  0.5318160653114319],\n",
              " 'accuracy': [0.1796296238899231,\n",
              "  0.17499999701976776,\n",
              "  0.2222222238779068,\n",
              "  0.24259258806705475,\n",
              "  0.27407407760620117,\n",
              "  0.26759257912635803,\n",
              "  0.3231481611728668,\n",
              "  0.3462963104248047,\n",
              "  0.3787037134170532,\n",
              "  0.38055557012557983,\n",
              "  0.3861111104488373,\n",
              "  0.39907407760620117,\n",
              "  0.40833333134651184,\n",
              "  0.42314815521240234,\n",
              "  0.42592594027519226,\n",
              "  0.45277777314186096,\n",
              "  0.46296295523643494,\n",
              "  0.4870370328426361,\n",
              "  0.4962962865829468,\n",
              "  0.5083333253860474,\n",
              "  0.5166666507720947,\n",
              "  0.5361111164093018,\n",
              "  0.5546296238899231,\n",
              "  0.5648148059844971,\n",
              "  0.5666666626930237,\n",
              "  0.5777778029441833,\n",
              "  0.5833333134651184,\n",
              "  0.595370352268219,\n",
              "  0.5935184955596924,\n",
              "  0.5981481671333313,\n",
              "  0.6120370626449585,\n",
              "  0.6194444298744202,\n",
              "  0.6287037134170532,\n",
              "  0.6333333253860474,\n",
              "  0.6379629373550415,\n",
              "  0.6509259343147278,\n",
              "  0.6555555462837219,\n",
              "  0.6592592597007751,\n",
              "  0.6666666865348816,\n",
              "  0.6712962985038757,\n",
              "  0.6740740537643433,\n",
              "  0.6740740537643433,\n",
              "  0.6796296238899231,\n",
              "  0.6796296238899231,\n",
              "  0.6842592358589172,\n",
              "  0.6935185194015503,\n",
              "  0.6944444179534912,\n",
              "  0.6953703761100769,\n",
              "  0.7064814567565918,\n",
              "  0.7092592716217041,\n",
              "  0.7092592716217041,\n",
              "  0.7148148417472839,\n",
              "  0.7148148417472839,\n",
              "  0.7157407402992249,\n",
              "  0.7222222089767456,\n",
              "  0.720370352268219,\n",
              "  0.7287036776542664,\n",
              "  0.729629635810852,\n",
              "  0.729629635810852,\n",
              "  0.7370370626449585,\n",
              "  0.7435185313224792,\n",
              "  0.7435185313224792,\n",
              "  0.7472222447395325,\n",
              "  0.7555555701255798,\n",
              "  0.7564814686775208,\n",
              "  0.7574074268341064,\n",
              "  0.7564814686775208,\n",
              "  0.7574074268341064,\n",
              "  0.760185182094574,\n",
              "  0.7638888955116272,\n",
              "  0.769444465637207,\n",
              "  0.7722222208976746,\n",
              "  0.7768518328666687,\n",
              "  0.7768518328666687,\n",
              "  0.779629647731781,\n",
              "  0.7805555462837219,\n",
              "  0.7851851582527161,\n",
              "  0.7861111164093018,\n",
              "  0.7916666865348816,\n",
              "  0.7944444417953491,\n",
              "  0.7972221970558167,\n",
              "  0.7962962985038757,\n",
              "  0.8037037253379822,\n",
              "  0.8055555820465088,\n",
              "  0.8055555820465088,\n",
              "  0.8074073791503906,\n",
              "  0.8083333373069763,\n",
              "  0.8083333373069763,\n",
              "  0.8092592358589172,\n",
              "  0.8101851940155029,\n",
              "  0.8111110925674438,\n",
              "  0.8129629492759705,\n",
              "  0.8148148059844971,\n",
              "  0.8166666626930237,\n",
              "  0.8185185194015503,\n",
              "  0.8203703761100769,\n",
              "  0.8240740895271301,\n",
              "  0.8259259462356567,\n",
              "  0.8259259462356567,\n",
              "  0.8259259462356567],\n",
              " 'val_loss': [1.7859578132629395,\n",
              "  1.78011953830719,\n",
              "  1.7764325141906738,\n",
              "  1.7732945680618286,\n",
              "  1.7659528255462646,\n",
              "  1.760465383529663,\n",
              "  1.7546411752700806,\n",
              "  1.7472378015518188,\n",
              "  1.7381179332733154,\n",
              "  1.7228405475616455,\n",
              "  1.7058955430984497,\n",
              "  1.6853467226028442,\n",
              "  1.6616137027740479,\n",
              "  1.6374661922454834,\n",
              "  1.6098912954330444,\n",
              "  1.5689582824707031,\n",
              "  1.533765196800232,\n",
              "  1.4980700016021729,\n",
              "  1.4617559909820557,\n",
              "  1.4265000820159912,\n",
              "  1.3939746618270874,\n",
              "  1.3622357845306396,\n",
              "  1.3315600156784058,\n",
              "  1.30284583568573,\n",
              "  1.2740012407302856,\n",
              "  1.2478406429290771,\n",
              "  1.221490502357483,\n",
              "  1.1971898078918457,\n",
              "  1.1734763383865356,\n",
              "  1.150566816329956,\n",
              "  1.1304255723953247,\n",
              "  1.1103744506835938,\n",
              "  1.0913859605789185,\n",
              "  1.0735180377960205,\n",
              "  1.0570385456085205,\n",
              "  1.040835976600647,\n",
              "  1.025490641593933,\n",
              "  1.0115306377410889,\n",
              "  0.9977846741676331,\n",
              "  0.98470139503479,\n",
              "  0.9718044400215149,\n",
              "  0.9602276086807251,\n",
              "  0.9473163485527039,\n",
              "  0.9367634654045105,\n",
              "  0.9273014068603516,\n",
              "  0.9162067174911499,\n",
              "  0.9050222039222717,\n",
              "  0.8969982266426086,\n",
              "  0.8870262503623962,\n",
              "  0.8787837624549866,\n",
              "  0.8704519867897034,\n",
              "  0.8633757829666138,\n",
              "  0.8562876582145691,\n",
              "  0.8475289940834045,\n",
              "  0.842268168926239,\n",
              "  0.8327639698982239,\n",
              "  0.8258101344108582,\n",
              "  0.8196415305137634,\n",
              "  0.8143950700759888,\n",
              "  0.8081456422805786,\n",
              "  0.802068293094635,\n",
              "  0.7974328994750977,\n",
              "  0.7925550937652588,\n",
              "  0.7877035737037659,\n",
              "  0.782413899898529,\n",
              "  0.7782557010650635,\n",
              "  0.7738627791404724,\n",
              "  0.7692462801933289,\n",
              "  0.7653948664665222,\n",
              "  0.7619031071662903,\n",
              "  0.7580367922782898,\n",
              "  0.754788339138031,\n",
              "  0.7518408298492432,\n",
              "  0.7485401034355164,\n",
              "  0.745762825012207,\n",
              "  0.7432929277420044,\n",
              "  0.7405811548233032,\n",
              "  0.7388948798179626,\n",
              "  0.7355465292930603,\n",
              "  0.7328150272369385,\n",
              "  0.7297128438949585,\n",
              "  0.7277685403823853,\n",
              "  0.7252218723297119,\n",
              "  0.722350001335144,\n",
              "  0.7204752564430237,\n",
              "  0.7184070944786072,\n",
              "  0.7158991694450378,\n",
              "  0.7146739959716797,\n",
              "  0.7117323279380798,\n",
              "  0.7101525068283081,\n",
              "  0.7081306576728821,\n",
              "  0.7068243622779846,\n",
              "  0.7051524519920349,\n",
              "  0.7031878232955933,\n",
              "  0.7013823986053467,\n",
              "  0.6989810466766357,\n",
              "  0.6973686218261719,\n",
              "  0.6960055232048035,\n",
              "  0.6935567259788513,\n",
              "  0.6916153430938721],\n",
              " 'val_accuracy': [0.19166666269302368,\n",
              "  0.21666666865348816,\n",
              "  0.2750000059604645,\n",
              "  0.3583333194255829,\n",
              "  0.25833332538604736,\n",
              "  0.375,\n",
              "  0.375,\n",
              "  0.3916666805744171,\n",
              "  0.3916666805744171,\n",
              "  0.3916666805744171,\n",
              "  0.375,\n",
              "  0.42500001192092896,\n",
              "  0.42500001192092896,\n",
              "  0.42500001192092896,\n",
              "  0.4416666626930237,\n",
              "  0.44999998807907104,\n",
              "  0.4416666626930237,\n",
              "  0.4583333432674408,\n",
              "  0.49166667461395264,\n",
              "  0.5,\n",
              "  0.49166667461395264,\n",
              "  0.49166667461395264,\n",
              "  0.5166666507720947,\n",
              "  0.550000011920929,\n",
              "  0.5583333373069763,\n",
              "  0.5583333373069763,\n",
              "  0.5666666626930237,\n",
              "  0.574999988079071,\n",
              "  0.574999988079071,\n",
              "  0.574999988079071,\n",
              "  0.5583333373069763,\n",
              "  0.574999988079071,\n",
              "  0.5916666388511658,\n",
              "  0.5916666388511658,\n",
              "  0.5916666388511658,\n",
              "  0.5833333134651184,\n",
              "  0.6083333492279053,\n",
              "  0.6000000238418579,\n",
              "  0.6083333492279053,\n",
              "  0.5916666388511658,\n",
              "  0.6000000238418579,\n",
              "  0.6000000238418579,\n",
              "  0.6083333492279053,\n",
              "  0.6000000238418579,\n",
              "  0.6000000238418579,\n",
              "  0.6000000238418579,\n",
              "  0.6000000238418579,\n",
              "  0.625,\n",
              "  0.6333333253860474,\n",
              "  0.6333333253860474,\n",
              "  0.6333333253860474,\n",
              "  0.6333333253860474,\n",
              "  0.6333333253860474,\n",
              "  0.6416666507720947,\n",
              "  0.6416666507720947,\n",
              "  0.6499999761581421,\n",
              "  0.6499999761581421,\n",
              "  0.6499999761581421,\n",
              "  0.6666666865348816,\n",
              "  0.6666666865348816,\n",
              "  0.675000011920929,\n",
              "  0.675000011920929,\n",
              "  0.6833333373069763,\n",
              "  0.6833333373069763,\n",
              "  0.699999988079071,\n",
              "  0.6833333373069763,\n",
              "  0.6833333373069763,\n",
              "  0.6833333373069763,\n",
              "  0.6833333373069763,\n",
              "  0.6833333373069763,\n",
              "  0.6833333373069763,\n",
              "  0.6833333373069763,\n",
              "  0.6833333373069763,\n",
              "  0.6833333373069763,\n",
              "  0.6916666626930237,\n",
              "  0.6916666626930237,\n",
              "  0.6916666626930237,\n",
              "  0.6833333373069763,\n",
              "  0.6916666626930237,\n",
              "  0.6916666626930237,\n",
              "  0.6916666626930237,\n",
              "  0.699999988079071,\n",
              "  0.699999988079071,\n",
              "  0.7083333134651184,\n",
              "  0.7250000238418579,\n",
              "  0.7250000238418579,\n",
              "  0.7333333492279053,\n",
              "  0.7333333492279053,\n",
              "  0.7333333492279053,\n",
              "  0.7333333492279053,\n",
              "  0.7333333492279053,\n",
              "  0.7333333492279053,\n",
              "  0.7333333492279053,\n",
              "  0.7333333492279053,\n",
              "  0.7333333492279053,\n",
              "  0.7333333492279053,\n",
              "  0.7416666746139526,\n",
              "  0.75,\n",
              "  0.7583333253860474,\n",
              "  0.7583333253860474]}"
            ]
          },
          "metadata": {},
          "execution_count": 9
        }
      ]
    },
    {
      "cell_type": "markdown",
      "source": [
        "#**Visualize the history**"
      ],
      "metadata": {
        "id": "AD1F5xFKSML0"
      }
    },
    {
      "cell_type": "code",
      "source": [
        "df_loss_acc = pd.DataFrame(history.history)\n",
        "df_loss= df_loss_acc[['loss','val_loss']]\n",
        "df_loss.rename(columns={'loss':'train','val_loss':'validation'},inplace=True)\n",
        "df_acc= df_loss_acc[['accuracy','val_accuracy']]\n",
        "df_acc.rename(columns={'accuracy':'train','val_accuracy':'validation'},inplace=True)\n",
        "df_loss.plot(title='Model loss',figsize=(12,8)).set(xlabel='Epoch',ylabel='Loss')\n",
        "df_acc.plot(title='Model Accuracy',figsize=(12,8)).set(xlabel='Epoch',ylabel='Accuracy')"
      ],
      "metadata": {
        "colab": {
          "base_uri": "https://localhost:8080/",
          "height": 1000
        },
        "id": "09f_JqmMSagM",
        "outputId": "c5d0eb46-d320-497d-f667-928de0932bb0"
      },
      "execution_count": 10,
      "outputs": [
        {
          "output_type": "stream",
          "name": "stderr",
          "text": [
            "<ipython-input-10-b296b54b08f3>:3: SettingWithCopyWarning: \n",
            "A value is trying to be set on a copy of a slice from a DataFrame\n",
            "\n",
            "See the caveats in the documentation: https://pandas.pydata.org/pandas-docs/stable/user_guide/indexing.html#returning-a-view-versus-a-copy\n",
            "  df_loss.rename(columns={'loss':'train','val_loss':'validation'},inplace=True)\n",
            "<ipython-input-10-b296b54b08f3>:5: SettingWithCopyWarning: \n",
            "A value is trying to be set on a copy of a slice from a DataFrame\n",
            "\n",
            "See the caveats in the documentation: https://pandas.pydata.org/pandas-docs/stable/user_guide/indexing.html#returning-a-view-versus-a-copy\n",
            "  df_acc.rename(columns={'accuracy':'train','val_accuracy':'validation'},inplace=True)\n"
          ]
        },
        {
          "output_type": "execute_result",
          "data": {
            "text/plain": [
              "[Text(0.5, 0, 'Epoch'), Text(0, 0.5, 'Accuracy')]"
            ]
          },
          "metadata": {},
          "execution_count": 10
        },
        {
          "output_type": "display_data",
          "data": {
            "text/plain": [
              "<Figure size 1200x800 with 1 Axes>"
            ],
            "image/png": "[encoded data removed]"
          },
          "metadata": {}
        },
        {
          "output_type": "display_data",
          "data": {
            "text/plain": [
              "<Figure size 1200x800 with 1 Axes>"
            ],
            "image/png": "[encoded data removed]"
          },
          "metadata": {}
        }
      ]
    },
    {
      "cell_type": "code",
      "source": [],
      "metadata": {
        "id": "l5Q01jtmSi26"
      },
      "execution_count": 10,
      "outputs": []
    },
    {
      "cell_type": "markdown",
      "source": [
        "#**Predict**"
      ],
      "metadata": {
        "id": "G83ziEhASlMT"
      }
    },
    {
      "cell_type": "code",
      "source": [
        "my_image = \"3.jpg\"\n",
        "# We preprocess the image to fit your algorithm.\n",
        "image = np.array(Image.open(my_image).resize((64, 64)))\n",
        "print(image.shape)\n",
        "plt.imshow(image)\n",
        "image = image.reshape((1, 64, 64, 3))\n",
        "image = image / 255.\n",
        "predictions_single = conv_model.predict(image)\n",
        "print(np.argmax(predictions_single))\n"
      ],
      "metadata": {
        "colab": {
          "base_uri": "https://localhost:8080/",
          "height": 484
        },
        "id": "RMfQZUX9Soi4",
        "outputId": "661be3e1-4dd5-437a-b8c6-86b9ec40fd97"
      },
      "execution_count": 12,
      "outputs": [
        {
          "output_type": "stream",
          "name": "stdout",
          "text": [
            "(64, 64, 3)\n",
            "1/1 [==============================] - 0s 76ms/step\n",
            "3\n"
          ]
        },
        {
          "output_type": "display_data",
          "data": {
            "text/plain": [
              "<Figure size 640x480 with 1 Axes>"
            ],
            "image/png": "[encoded data removed]"
          },
          "metadata": {}
        }
      ]
    }
  ]
}